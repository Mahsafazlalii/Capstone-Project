import pandas as pd
import re
import nltk
from nltk.tokenize import word_tokenize
from nltk.stem import PorterStemmer

# Download necessary NLTK data
nltk.download('punkt')

# Load the data from CSV file
df = pd.read_csv('InputFisheries-Oceans.csv')

# Initialize the stemmer
stemmer = PorterStemmer()

# Define detailed keyword sets for each category (deduplicated and optimized)
keywords = {
    'Animal': ["OIC - Wildlife Act", "Black Guillemot", "Elk", "Fox", "avian", "bird species", "migratory species", "endemic fauna", "wildlife preservation", "aquatic life", "terrestrial wildlife",'animal', 'biodiversity', 'ecosystem', 'fauna', 'wildlife conservation', 'Muskox', 'Muskrat', 'bison', 'habitat', 'wildlife', 'fauna', 'sanctuary', 'species', 'conservation area', 'terrestrial', 'marine protected', 'amphibian', 'bear', 'wolf', 'beaver', 'Wood Bison', 'mammal', 'insect', 'marine', 'muskox', 'endangered species', 'caribou', 'sheep', 'reptile', 'aquatic animal', 'deer', 'moose', 'predator', 'elk', 'Herd', 'Muskrat', 'prey', 'bird', 'fish', 'marten', 'lynx', 'bird', 'sparrow', 'nighthawk', 'curlew', 'grosbeak', 'grebe', 'godwit', 'gull', 'yellowlegs', 'flycatcher', 'falcon', 'phalarope', 'blackbird', 'owl', 'crane', 'rail', 'trout', 'varden', 'cisco', 'wolfish', 'frog', 'toad', 'bee', 'Bee', 'insects', 'fish', 'mammals', 'caribou', 'whale', 'pika', 'myotis', 'grizzly', 'polar bear', 'bison'],
    
    'Earth': ["Geological", "Geochemistry", "Geothermal", "Terranes", "CDED Hillshade 30m", "Physiographic Annotation", "Shaded Relief", "Geopolitical Boundary", "geopolitical boundary", "borders", "glaciated areas", "glaciated areas", "physiographic annotation", "physiographic subset", "Geochemical Provinces", "Geophysics", "Geophysics Gravity Bouguer Anomaly", "Geophysics Residual Magnetic Total Field", "Geophysics First Vertical Derivatives", "Coal Activity", "Coal Leases", "Geochemical Provinces", "Geophysics", "Geophysics Gravity Bouguer Anomaly", "Geophysics Residual Magnetic Total Field", "Geophysics First Vertical Derivatives", "Legal Survey Annotation", "Condos - Surveyed" , "Hypsometry", "Shaded Relief", "Geochronology", "Isotope Compilations", "Folds", "Faults", "geographical borders", "surveyed land", "topography", "bioregion", "geographical area", "earth sciences", "environmental geology", "geological formation", "land features", "hydrogeology", 'lithosphere', 'sedimentology', 'tectonics', 'rock formation', 'geological survey', 'Grid', 'Slumps', 'Photo Area', 'Sand', 'Oil', 'Coal', 'Climate', 'contour', 'elevation', 'terrain', 'topography', 'geology', 'subsurface', 'geoscience', 'bathymetry', 'mapping', 'spatial', 'geomorphology', 'mineral', 'ore', 'fossil', 'rock', 'landform'
    , 'soil', 'mountain', 'plate tectonics', 'temperature', 'valley', 'geography', 'erosion', 'mineral', 'ore', 'metamorphic', 'landscape', 'sediment', 'rock', 'fossil', 'crust', 'sedimentary', 'terrain', 'volcano', 'landform', 'igneous', 'earthquake'],
    
    'Fire': ["Attack Bases", "Fire Management Zones", "fire ecology research", "firefighting equipment", "fire behavior", "fire season", "fire resistance", "burn pattern", "combustion analysis", 'forest fire', 'bushfire', 'pyrology', 'fire behavior', 'sites', 'firefighting', 'burn area', 'wildfire risk', 'fire hazard', 'fire management', 'controlled burn', 'fire suppression', 'fire ecology', 'ignite', 'flammable', 'fire management', 'fire prevention', 'Fire History', 'fire ecology', 'Fire Footprint', 'combustion', 'wildfire', 'fire', 'heat wave', 'burn', 'controlled burn', 'smoke', 'flame', 'ash'],
    
    'Ice': ["Glaciated Areas", "glaciated areas", "glaciated areas", "winter ecology", "cryogenic processes", "ice phenomena", "seasonal freeze", "glacial movements", "frost patterns", "cold weather conditions", 'ice sheet', 'ice formation', 'ice melt', 'snowpack', 'frozen tundra','iceberg', 'frost', 'glaciology', 'permafrost', 'ice cover', 'snowfall', 'snow', 'glacial', 'ice cap', 'cryosphere', 'glacial', 'snow', 'permafrost', 'frozen', 'iceberg', 'cold', 'blizzard', 'frost', 'chill', 'glacier', 'icicle', 'snowfall', 'sea ice', 'winter'],
    
    'Land': ["Land Tenure", "Forestry", "Elevation", "Survey", "Administrative Boundaries", "Place Names Annotation", "Road Segment", "Borders", "Land Use", "Lots For Sale", "Major Cities", "Major Highways", "Borders", "Placer Claims", "Placer Development Status", "Quartz Claims", "Quartz Staking Direction", "Class 1 Quartz Land Use Operation", "Quartz Land Use Permits", "Quartz Mining Licences", "Crown Grants", "Trans-boundary Reaches", "Placer Watersheds", "Air Photo Inventory", "Air Photo Flight Lines", "Air Photo Locations", "Land Use Permits Polygon", "Order in Council", "OIC - Forest Protection Act", "OIC - Historic Resources Act", "OIC - Yukon Act", "City of Whitehorse", "NG911 Subdivisions - Whitehorse", "Mining Permits", "Cutting Permits", "Permanent Sampling Plots", "Forest Health Aerial Overview", "Silviculture", "Historic Silviculture Activities", "Historic Silviculture Inventory", "Commercial Cutting Permit", "Easements", "Spot Heights", "habitat preservation", "land stewardship", "topographic variation", "geographical conservation", "landscape ecology", "urban development", "rural landscapes", 'land management', 'spatial planning', 'Utilities', 'Highways', 'Autowrecker', 'Limits', 'Toponym', 'Geonames', 'Resolution', 'scale', 'Mine', 'Navigational','Mamnade Hydro Observation', 'Pipelines', 'Powerlines', 'Quarry', 'Domestic', 'Industrial', 'Area', 'Industrial', 'Yard', 'Pit', 'Resolution', 'scale', 'Enbridge', 'Energy', 'Boundaries', 'Mapsheets', 'location', 'Structures', 'Parcels', 'Units', 'Zones', 'Boundaries', 'Offices', 'Regions', 'District', 'Electoral District', 'Central Offices', 'Northwestel', 'Transmission', 'Facilities', 'Power ', 'Major Roads', 'Road', 'Polygons', 'Points', 'Lines', 'Footprints', 'Structures', 'Yard', 'Powerlines', 'Regional', 'Places', 'LandCover', 'Locations', 'Sahtu', 'Wells', 'Oil', 'Coal', 'Locations', 'Regions', 'Slope', 'pipelines','scale', '01300k scale', 'boundaries', 'parcel', 'zoning', 'land use', 'land cover', 'ownership', 'cadastral', 'property', 'terrain', 'park', 'conservation', 'reserve', 'territory', 'agriculture', 'farming', 'urban area', 'protected area', 'soil', 'mountain', 'cultivation', 'valley', 'Wooded Areas', 'geography', 'rural area', 'crops', 'canyon', 'agricultural land', 'landscape', 'park', 'forest', 'Land', 'agronomy', 'plateau', 'EcoRegions', 'farming', 'terrain', 'farm', 'conservation area', 'Wetlands', 'reserve', 'Boundaries', 'Boundary', 'agriculture', 'agricultural', 'Areas', 'horticulture', 'urban area'],
    
    'People': ["Culture Heritage", "First Nation Heritage Routes", "Annotation Class", "Transportation", "Major Cities", "Major Highways" , "Major Cities", "Borders", "Borders", "geopolitical boundary", "transportation annotation", "Elections", "Polling Divisions", "population studies", "cultural heritage", "societal impacts", "human geography", "demographic changes", "community ecology", "social anthropology", 'sociocultural', 'demographic', 'public services', 'governance', 'Pricing', 'Utilities', 'Toponym', 'Provincial', 'People', 'Applications', 'Units ', 'Recreationa', 'Administrative', 'Political', 'Northwestel', 'Transmission ', 'Customers', 'Civic', 'transportation lines', 'transportation', 'community', 'municipality', 'census', 'settlement', 'urban', 'population', 'demographics', 'residential', 'social', 'public', 'human development', 'human impact', 'indigenous', 'cultural', 'society', 'population density', 'urbanization', 'migration', 'settlement', 'habitation', 'Human Footprints', 'Municipal', 'Disturbance', 'community development', 'demographics', 'community development', 'residents', 'Human', 'cultural', 'community', 'society', 'population density', 'urbanization', 'migration', 'population', 'settlement', 'Human Footprints', 'habitation', 'Municipal', 'Disturbance', 'indigenous'],
    
    'Plants': ["Forestry", "Permanent Sampling Plots", "Silviculture", "Historic Silviculture Activities", "Historic Silviculture Inventory", "Biophysical Plots", "vegetation patterns", "botanical studies", "plant biodiversity", "horticultural practices", "agroforestry", "floral ecology", "plant conservation", 'plant species', 'flora diversity', 'vegetation cover', 'reforestation', 'botanical garden', 'Wooded', 'Ecological', 'Climate', 'plants', 'braya', 'aster', 'vegetation', 'floristic', 'forest', 'botanical', 'flora', 'shrubland', 'agricultural', 'ecosystem', 'grassland', 'arbores', 'garden', 'herbaceous', 'horticulture', 'tree', 'forest', 'floral', 'crop', 'plantation', 'botanical', 'Sand', 'forest', 'shrub', 'ecosystem', 'grassland', 'arboreal', 'flora', 'Areas', 'horticulture', 'tree', 'herb', 'garden', 'herbaceous', 'vegetation', 'floral', 'crop', 'plantation', 'botanical'],
    
    'Water': ["Lakes", "Rivers", "lakes", "rivers", "ocean", "glaciated areas", "Environment Act Permits", "Weather Stations", "hydrological cycle", "aquatic ecosystems", "water resource management", "freshwater biology", "marine studies", "hydrographic mapping", "aquatic preservation", 'water resource', 'freshwater', 'groundwater', 'aquatic habitat', 'hydrological cycle', 'pH', 'Watershed', 'Water', 'Wells ', 'Hydro ', 'trout', 'varden', 'cisco', 'fish', 'whale', 'hydrology', 'wetlands', 'water quality', 'watershed', 'aquatic', 'river', 'lake', 'ocean', 'stream', 'flood', 'precipitation', 'marine', 'hydrography', 'water body', 'flow', 'aquifer', 'watershed', 'flood', 'water', 'stream', 'streamflow', 'floodplain', 'ocean', 'drought', 'precipitation', 'marine ecology', 'moisture', 'hydrology', 'river', 'aquatic', 'lake']
}

class DataCategorizer:
    def __init__(self, keywords):
        self.keywords = keywords
        self.stemmer = PorterStemmer()
        print("DEBUG: Keywords initialized")
        for category, keys in keywords.items():
            print(f"DEBUG: Category: {category}, Keywords: {keys}")

    def _check_keywords(self, text, categories):
        for category, keys in self.keywords.items():
            for keyword in keys:
                pattern = r'\b' + re.escape(keyword.lower()) + r'\b'
                print(f"DEBUG: Checking keyword '{keyword}' with pattern '{pattern}' in text '{text}'")
                if re.search(pattern, text):
                    categories.add(category)
                    print(f"DEBUG: Match found: '{keyword}' in '{text}' - Categorized as {category}")

    def categorize_v1(self, row):
        title = row['Title for Link2'].lower()
        categories = set()
        print(f"DEBUG: Processing title: {title}")

        def check_keywords_v1(text):
            found = False
            for category, keys in self.keywords.items():
                for keyword in keys:
                    pattern = r'\W*' + re.escape(keyword) + r'\W*'
                    print(f"DEBUG: Checking keyword '{keyword}' with pattern '{pattern}' in text '{text}'")
                    if re.search(pattern, text):
                        found = True
                        categories.add(category)
                        print(f"Match found: '{keyword}' in '{text}' - Categorized as {category}")
            if not found:
                print(f"DEBUG: No match for '{text}'")
        
        check_keywords_v1(title)

        if not categories:
            secondary_title = row.get('Title for Link2', '').lower()
            print(f"DEBUG: Processing secondary title: {secondary_title}")
            check_keywords_v1(secondary_title)

        return ', '.join(categories) if categories else 'Miscellaneous'

    def categorize_v2(self, row):
        title = row['Title for Link2'].lower()
        categories = set()
        print(f"DEBUG: Processing title: {title}")

        self._check_keywords(title, categories)

        if not categories:
            secondary_title = row.get('Title for Link2', '').lower()
            print(f"DEBUG: Processing secondary title: {secondary_title}")
            self._check_keywords(secondary_title, categories)

        return ', '.join(categories) if categories else 'Miscellaneous'

    def categorize_v3(self, row):
        title = row['Title for Link2'].lower()
        categories = set()
        print(f"DEBUG: Processing title: {title}")

        def check_keywords_v3(text):
            tokens = [self.stemmer.stem(word) for word in word_tokenize(text)]
            print(f"DEBUG: Tokens: {tokens}")
            for category, keys in self.keywords.items():
                stemmed_keys = [self.stemmer.stem(keyword.lower()) for keyword in keys]
                print(f"DEBUG: Stemmed keywords for {category}: {stemmed_keys}")
                if set(tokens) & set(stemmed_keys):
                    categories.add(category)
                    print(f"DEBUG: Match found in tokens - Categorized as {category}")

        check_keywords_v3(title)

        if not categories:
            secondary_title = row.get('Title for Link2', '').lower()
            print(f"DEBUG: Processing secondary title: {secondary_title}")
            check_keywords_v3(secondary_title)

        return ', '.join(categories) if categories else 'Miscellaneous'

   
    #def apply_to_dataframe(self, df):
        df['result1'] = df.apply(self.categorize_v1, axis=1)
        df['result2'] = df.apply(self.categorize_v2, axis=1)
        df['result3'] = df.apply(self.categorize_v3, axis=1)
        df['Categorize'] = df.apply(lambda row: ', '.join(sorted(set(row['result1'].split(', ') + row['result2'].split(', ') + row['result3'].split(', ')) - {'Miscellaneous'})), axis=1)
        return df
    def apply_to_dataframe(self, df):
        df['result1'] = df.apply(self.categorize_v1, axis=1)
        df['result2'] = df.apply(self.categorize_v2, axis=1)
        df['result3'] = df.apply(self.categorize_v3, axis=1)
    
    # Define a function to check results
        def get_categories(row):
        # Collect results in a set, excluding 'Miscellaneous'
             results = set(row['result1'].split(', ') + row['result2'].split(', ') + row['result3'].split(', '))
             results.discard('Miscellaneous')  # Remove 'Miscellaneous' if present
        # Return joined categories if non-empty, else 'Miscellaneous'
             return ', '.join(sorted(results)) if results else 'Miscellaneous'

    # Apply function to get final categorization
        df['Categorize'] = df.apply(get_categories, axis=1)
    
        return df

# Instantiate the categorizer with actual keywords
categorizer = DataCategorizer(keywords)

# Apply the categorizer to the DataFrame
df = categorizer.apply_to_dataframe(df)

# Select only the required columns
columns_to_keep = ['Title for Link', 'Link', 'Title for Link2', 'Categorize']
updated_df = df[columns_to_keep]

# Save the updated DataFrame to a new CSV file
updated_df.to_csv('updated_dataFisheries-Oceans.csv', index=False)

# Load and display the updated DataFrame to confirm
updated_df = pd.read_csv('updated_dataFisheries-Oceans.csv')


# Show how many 'blank' rows there are in the 'Categorize' column
print(updated_df['Categorize'].value_counts())
